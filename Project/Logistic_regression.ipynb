{
 "cells": [
  {
   "cell_type": "code",
   "execution_count": 1,
   "id": "0890eb5f-dc1f-4ce3-b2cf-cc34ddc7d855",
   "metadata": {},
   "outputs": [],
   "source": [
    "import pandas as pd\n",
    "from sklearn.datasets import load_iris\n",
    "from sklearn.model_selection import train_test_split\n",
    "from sklearn.linear_model import LogisticRegression\n",
    "from sklearn.metrics import accuracy_score,confusion_matrix,classification_report\n",
    "from sklearn.preprocessing import LabelEncoder\n"
   ]
  },
  {
   "cell_type": "code",
   "execution_count": 2,
   "id": "493e29ce-be27-4de0-9655-eafd4c032132",
   "metadata": {},
   "outputs": [
    {
     "data": {
      "text/html": [
       "<div>\n",
       "<style scoped>\n",
       "    .dataframe tbody tr th:only-of-type {\n",
       "        vertical-align: middle;\n",
       "    }\n",
       "\n",
       "    .dataframe tbody tr th {\n",
       "        vertical-align: top;\n",
       "    }\n",
       "\n",
       "    .dataframe thead th {\n",
       "        text-align: right;\n",
       "    }\n",
       "</style>\n",
       "<table border=\"1\" class=\"dataframe\">\n",
       "  <thead>\n",
       "    <tr style=\"text-align: right;\">\n",
       "      <th></th>\n",
       "      <th>Age</th>\n",
       "      <th>Is_Senior</th>\n",
       "      <th>Marital_Status</th>\n",
       "      <th>Married_Premium_Discount</th>\n",
       "      <th>Prior_Insurance</th>\n",
       "      <th>Prior_Insurance_Premium_Adjustment</th>\n",
       "      <th>Claims_Frequency</th>\n",
       "      <th>Claims_Severity</th>\n",
       "      <th>Claims_Adjustment</th>\n",
       "      <th>Policy_Type</th>\n",
       "      <th>...</th>\n",
       "      <th>Time_Since_First_Contact</th>\n",
       "      <th>Conversion_Status</th>\n",
       "      <th>Website_Visits</th>\n",
       "      <th>Inquiries</th>\n",
       "      <th>Quotes_Requested</th>\n",
       "      <th>Time_to_Conversion</th>\n",
       "      <th>Credit_Score</th>\n",
       "      <th>Premium_Adjustment_Credit</th>\n",
       "      <th>Region</th>\n",
       "      <th>Premium_Adjustment_Region</th>\n",
       "    </tr>\n",
       "  </thead>\n",
       "  <tbody>\n",
       "    <tr>\n",
       "      <th>0</th>\n",
       "      <td>47</td>\n",
       "      <td>0</td>\n",
       "      <td>Married</td>\n",
       "      <td>86</td>\n",
       "      <td>1-5 years</td>\n",
       "      <td>50</td>\n",
       "      <td>0</td>\n",
       "      <td>Low</td>\n",
       "      <td>0</td>\n",
       "      <td>Full Coverage</td>\n",
       "      <td>...</td>\n",
       "      <td>10</td>\n",
       "      <td>0</td>\n",
       "      <td>5</td>\n",
       "      <td>1</td>\n",
       "      <td>2</td>\n",
       "      <td>99</td>\n",
       "      <td>704</td>\n",
       "      <td>-50</td>\n",
       "      <td>Suburban</td>\n",
       "      <td>50</td>\n",
       "    </tr>\n",
       "    <tr>\n",
       "      <th>1</th>\n",
       "      <td>37</td>\n",
       "      <td>0</td>\n",
       "      <td>Married</td>\n",
       "      <td>86</td>\n",
       "      <td>1-5 years</td>\n",
       "      <td>50</td>\n",
       "      <td>0</td>\n",
       "      <td>Low</td>\n",
       "      <td>0</td>\n",
       "      <td>Full Coverage</td>\n",
       "      <td>...</td>\n",
       "      <td>22</td>\n",
       "      <td>0</td>\n",
       "      <td>5</td>\n",
       "      <td>1</td>\n",
       "      <td>2</td>\n",
       "      <td>99</td>\n",
       "      <td>726</td>\n",
       "      <td>-50</td>\n",
       "      <td>Urban</td>\n",
       "      <td>100</td>\n",
       "    </tr>\n",
       "    <tr>\n",
       "      <th>2</th>\n",
       "      <td>49</td>\n",
       "      <td>0</td>\n",
       "      <td>Married</td>\n",
       "      <td>86</td>\n",
       "      <td>1-5 years</td>\n",
       "      <td>50</td>\n",
       "      <td>1</td>\n",
       "      <td>Low</td>\n",
       "      <td>50</td>\n",
       "      <td>Full Coverage</td>\n",
       "      <td>...</td>\n",
       "      <td>28</td>\n",
       "      <td>0</td>\n",
       "      <td>4</td>\n",
       "      <td>4</td>\n",
       "      <td>1</td>\n",
       "      <td>99</td>\n",
       "      <td>772</td>\n",
       "      <td>-50</td>\n",
       "      <td>Urban</td>\n",
       "      <td>100</td>\n",
       "    </tr>\n",
       "    <tr>\n",
       "      <th>3</th>\n",
       "      <td>62</td>\n",
       "      <td>1</td>\n",
       "      <td>Married</td>\n",
       "      <td>86</td>\n",
       "      <td>&gt;5 years</td>\n",
       "      <td>0</td>\n",
       "      <td>1</td>\n",
       "      <td>Low</td>\n",
       "      <td>50</td>\n",
       "      <td>Full Coverage</td>\n",
       "      <td>...</td>\n",
       "      <td>4</td>\n",
       "      <td>1</td>\n",
       "      <td>6</td>\n",
       "      <td>2</td>\n",
       "      <td>2</td>\n",
       "      <td>2</td>\n",
       "      <td>809</td>\n",
       "      <td>-50</td>\n",
       "      <td>Urban</td>\n",
       "      <td>100</td>\n",
       "    </tr>\n",
       "    <tr>\n",
       "      <th>4</th>\n",
       "      <td>36</td>\n",
       "      <td>0</td>\n",
       "      <td>Single</td>\n",
       "      <td>0</td>\n",
       "      <td>&gt;5 years</td>\n",
       "      <td>0</td>\n",
       "      <td>2</td>\n",
       "      <td>Low</td>\n",
       "      <td>100</td>\n",
       "      <td>Full Coverage</td>\n",
       "      <td>...</td>\n",
       "      <td>14</td>\n",
       "      <td>1</td>\n",
       "      <td>8</td>\n",
       "      <td>4</td>\n",
       "      <td>2</td>\n",
       "      <td>10</td>\n",
       "      <td>662</td>\n",
       "      <td>50</td>\n",
       "      <td>Suburban</td>\n",
       "      <td>50</td>\n",
       "    </tr>\n",
       "  </tbody>\n",
       "</table>\n",
       "<p>5 rows × 27 columns</p>\n",
       "</div>"
      ],
      "text/plain": [
       "   Age  Is_Senior Marital_Status  Married_Premium_Discount Prior_Insurance  \\\n",
       "0   47          0        Married                        86       1-5 years   \n",
       "1   37          0        Married                        86       1-5 years   \n",
       "2   49          0        Married                        86       1-5 years   \n",
       "3   62          1        Married                        86        >5 years   \n",
       "4   36          0         Single                         0        >5 years   \n",
       "\n",
       "   Prior_Insurance_Premium_Adjustment  Claims_Frequency Claims_Severity  \\\n",
       "0                                  50                 0             Low   \n",
       "1                                  50                 0             Low   \n",
       "2                                  50                 1             Low   \n",
       "3                                   0                 1             Low   \n",
       "4                                   0                 2             Low   \n",
       "\n",
       "   Claims_Adjustment    Policy_Type  ...  Time_Since_First_Contact  \\\n",
       "0                  0  Full Coverage  ...                        10   \n",
       "1                  0  Full Coverage  ...                        22   \n",
       "2                 50  Full Coverage  ...                        28   \n",
       "3                 50  Full Coverage  ...                         4   \n",
       "4                100  Full Coverage  ...                        14   \n",
       "\n",
       "   Conversion_Status  Website_Visits  Inquiries  Quotes_Requested  \\\n",
       "0                  0               5          1                 2   \n",
       "1                  0               5          1                 2   \n",
       "2                  0               4          4                 1   \n",
       "3                  1               6          2                 2   \n",
       "4                  1               8          4                 2   \n",
       "\n",
       "   Time_to_Conversion Credit_Score  Premium_Adjustment_Credit    Region  \\\n",
       "0                  99          704                        -50  Suburban   \n",
       "1                  99          726                        -50     Urban   \n",
       "2                  99          772                        -50     Urban   \n",
       "3                   2          809                        -50     Urban   \n",
       "4                  10          662                         50  Suburban   \n",
       "\n",
       "   Premium_Adjustment_Region  \n",
       "0                         50  \n",
       "1                        100  \n",
       "2                        100  \n",
       "3                        100  \n",
       "4                         50  \n",
       "\n",
       "[5 rows x 27 columns]"
      ]
     },
     "execution_count": 2,
     "metadata": {},
     "output_type": "execute_result"
    }
   ],
   "source": [
    "df = pd.read_csv('synthetic_insurance_data.csv')\n",
    "df.head()"
   ]
  },
  {
   "cell_type": "code",
   "execution_count": 3,
   "id": "d99f5c52-aca0-4283-93c1-0604ce1749c6",
   "metadata": {},
   "outputs": [],
   "source": [
    "data = ['Age', 'Is_Senior', 'Credit_Score', 'Prior_Insurance', 'Claims_Frequency', 'Policy_Type', 'Premium_Amount', 'Total_Discounts', 'Source_of_Lead', 'Website_Visits', 'Inquiries', 'Quotes_Requested', 'Time_Since_First_Contact']\n",
    "encoder = LabelEncoder()\n",
    "\n",
    "df['Prior_Insurance'] = encoder.fit_transform(df['Prior_Insurance'])\n",
    "df[\"Policy_Type\"] = encoder.fit_transform(df['Policy_Type'])\n",
    "df[\"Source_of_Lead\"] = encoder.fit_transform(df['Source_of_Lead'])"
   ]
  },
  {
   "cell_type": "code",
   "execution_count": 4,
   "id": "914aa51f-801c-4517-9691-7756606d3ee6",
   "metadata": {},
   "outputs": [],
   "source": [
    "X = df[data]\n",
    "y = df['Conversion_Status']"
   ]
  },
  {
   "cell_type": "code",
   "execution_count": 5,
   "id": "55c63b1c-989d-4b97-900e-2d625d470f1c",
   "metadata": {},
   "outputs": [],
   "source": [
    "X_train, X_test, y_train, y_test = train_test_split(X, y, test_size=0.2, random_state=42)"
   ]
  },
  {
   "cell_type": "code",
   "execution_count": 7,
   "id": "fcaf1cfb-a0d1-4aee-97fe-88efb98ad730",
   "metadata": {},
   "outputs": [],
   "source": [
    "model= LogisticRegression(max_iter=20000)\n",
    "model.fit(X_train,y_train)\n",
    "y_pred= model.predict(X_test)"
   ]
  },
  {
   "cell_type": "code",
   "execution_count": 8,
   "id": "c37490c1-29f6-455d-b7db-5f1a58fd34c1",
   "metadata": {},
   "outputs": [],
   "source": [
    "accuracy=accuracy_score(y_test,y_pred)\n",
    "conf_matrix= confusion_matrix(y_test,y_pred)\n",
    "class_report=classification_report(y_test,y_pred)"
   ]
  },
  {
   "cell_type": "code",
   "execution_count": 9,
   "id": "5b1e6278-72e8-45c9-911c-fda06d9ed815",
   "metadata": {},
   "outputs": [
    {
     "name": "stdout",
     "output_type": "stream",
     "text": [
      "Accuracy: 0.564\n"
     ]
    }
   ],
   "source": [
    "print(\"Accuracy:\",accuracy)"
   ]
  },
  {
   "cell_type": "code",
   "execution_count": 10,
   "id": "99d127ee-ed83-4022-977d-e2faf69e65da",
   "metadata": {},
   "outputs": [
    {
     "name": "stdout",
     "output_type": "stream",
     "text": [
      "Confusion Matrix:\n",
      " [[  16  844]\n",
      " [  28 1112]]\n"
     ]
    }
   ],
   "source": [
    "print(\"Confusion Matrix:\\n\",conf_matrix)"
   ]
  },
  {
   "cell_type": "code",
   "execution_count": 11,
   "id": "75e72ded-3e6d-4e1f-b475-f8db1e17ccaa",
   "metadata": {},
   "outputs": [
    {
     "name": "stdout",
     "output_type": "stream",
     "text": [
      "Classification Report:\n",
      "               precision    recall  f1-score   support\n",
      "\n",
      "           0       0.36      0.02      0.04       860\n",
      "           1       0.57      0.98      0.72      1140\n",
      "\n",
      "    accuracy                           0.56      2000\n",
      "   macro avg       0.47      0.50      0.38      2000\n",
      "weighted avg       0.48      0.56      0.42      2000\n",
      "\n"
     ]
    }
   ],
   "source": [
    "print(\"Classification Report:\\n\", class_report)"
   ]
  },
  {
   "cell_type": "code",
   "execution_count": null,
   "id": "9d038419-60ba-4655-ab3e-cafe70eed421",
   "metadata": {},
   "outputs": [],
   "source": []
  }
 ],
 "metadata": {
  "kernelspec": {
   "display_name": "Python 3 (ipykernel)",
   "language": "python",
   "name": "python3"
  },
  "language_info": {
   "codemirror_mode": {
    "name": "ipython",
    "version": 3
   },
   "file_extension": ".py",
   "mimetype": "text/x-python",
   "name": "python",
   "nbconvert_exporter": "python",
   "pygments_lexer": "ipython3",
   "version": "3.12.1"
  }
 },
 "nbformat": 4,
 "nbformat_minor": 5
}
