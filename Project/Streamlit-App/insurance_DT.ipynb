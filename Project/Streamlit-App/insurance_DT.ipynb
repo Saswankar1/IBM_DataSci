{
 "cells": [
  {
   "cell_type": "code",
   "execution_count": 20,
   "metadata": {},
   "outputs": [],
   "source": [
    "import numpy as np\n",
    "import pandas as pd\n",
    "from sklearn.model_selection import train_test_split\n",
    "from sklearn.svm import SVC\n",
    "from sklearn.metrics import accuracy_score , confusion_matrix, classification_report\n",
    "from sklearn.preprocessing import LabelEncoder\n",
    "from sklearn.tree import DecisionTreeClassifier"
   ]
  },
  {
   "cell_type": "code",
   "execution_count": 21,
   "metadata": {},
   "outputs": [
    {
     "data": {
      "text/html": [
       "<div>\n",
       "<style scoped>\n",
       "    .dataframe tbody tr th:only-of-type {\n",
       "        vertical-align: middle;\n",
       "    }\n",
       "\n",
       "    .dataframe tbody tr th {\n",
       "        vertical-align: top;\n",
       "    }\n",
       "\n",
       "    .dataframe thead th {\n",
       "        text-align: right;\n",
       "    }\n",
       "</style>\n",
       "<table border=\"1\" class=\"dataframe\">\n",
       "  <thead>\n",
       "    <tr style=\"text-align: right;\">\n",
       "      <th></th>\n",
       "      <th>Age</th>\n",
       "      <th>Is_Senior</th>\n",
       "      <th>Marital_Status</th>\n",
       "      <th>Married_Premium_Discount</th>\n",
       "      <th>Prior_Insurance</th>\n",
       "      <th>Prior_Insurance_Premium_Adjustment</th>\n",
       "      <th>Claims_Frequency</th>\n",
       "      <th>Claims_Severity</th>\n",
       "      <th>Claims_Adjustment</th>\n",
       "      <th>Policy_Type</th>\n",
       "      <th>...</th>\n",
       "      <th>Time_Since_First_Contact</th>\n",
       "      <th>Conversion_Status</th>\n",
       "      <th>Website_Visits</th>\n",
       "      <th>Inquiries</th>\n",
       "      <th>Quotes_Requested</th>\n",
       "      <th>Time_to_Conversion</th>\n",
       "      <th>Credit_Score</th>\n",
       "      <th>Premium_Adjustment_Credit</th>\n",
       "      <th>Region</th>\n",
       "      <th>Premium_Adjustment_Region</th>\n",
       "    </tr>\n",
       "  </thead>\n",
       "  <tbody>\n",
       "    <tr>\n",
       "      <th>0</th>\n",
       "      <td>47</td>\n",
       "      <td>0</td>\n",
       "      <td>Married</td>\n",
       "      <td>86</td>\n",
       "      <td>1-5 years</td>\n",
       "      <td>50</td>\n",
       "      <td>0</td>\n",
       "      <td>Low</td>\n",
       "      <td>0</td>\n",
       "      <td>Full Coverage</td>\n",
       "      <td>...</td>\n",
       "      <td>10</td>\n",
       "      <td>0</td>\n",
       "      <td>5</td>\n",
       "      <td>1</td>\n",
       "      <td>2</td>\n",
       "      <td>99</td>\n",
       "      <td>704</td>\n",
       "      <td>-50</td>\n",
       "      <td>Suburban</td>\n",
       "      <td>50</td>\n",
       "    </tr>\n",
       "    <tr>\n",
       "      <th>1</th>\n",
       "      <td>37</td>\n",
       "      <td>0</td>\n",
       "      <td>Married</td>\n",
       "      <td>86</td>\n",
       "      <td>1-5 years</td>\n",
       "      <td>50</td>\n",
       "      <td>0</td>\n",
       "      <td>Low</td>\n",
       "      <td>0</td>\n",
       "      <td>Full Coverage</td>\n",
       "      <td>...</td>\n",
       "      <td>22</td>\n",
       "      <td>0</td>\n",
       "      <td>5</td>\n",
       "      <td>1</td>\n",
       "      <td>2</td>\n",
       "      <td>99</td>\n",
       "      <td>726</td>\n",
       "      <td>-50</td>\n",
       "      <td>Urban</td>\n",
       "      <td>100</td>\n",
       "    </tr>\n",
       "    <tr>\n",
       "      <th>2</th>\n",
       "      <td>49</td>\n",
       "      <td>0</td>\n",
       "      <td>Married</td>\n",
       "      <td>86</td>\n",
       "      <td>1-5 years</td>\n",
       "      <td>50</td>\n",
       "      <td>1</td>\n",
       "      <td>Low</td>\n",
       "      <td>50</td>\n",
       "      <td>Full Coverage</td>\n",
       "      <td>...</td>\n",
       "      <td>28</td>\n",
       "      <td>0</td>\n",
       "      <td>4</td>\n",
       "      <td>4</td>\n",
       "      <td>1</td>\n",
       "      <td>99</td>\n",
       "      <td>772</td>\n",
       "      <td>-50</td>\n",
       "      <td>Urban</td>\n",
       "      <td>100</td>\n",
       "    </tr>\n",
       "    <tr>\n",
       "      <th>3</th>\n",
       "      <td>62</td>\n",
       "      <td>1</td>\n",
       "      <td>Married</td>\n",
       "      <td>86</td>\n",
       "      <td>&gt;5 years</td>\n",
       "      <td>0</td>\n",
       "      <td>1</td>\n",
       "      <td>Low</td>\n",
       "      <td>50</td>\n",
       "      <td>Full Coverage</td>\n",
       "      <td>...</td>\n",
       "      <td>4</td>\n",
       "      <td>1</td>\n",
       "      <td>6</td>\n",
       "      <td>2</td>\n",
       "      <td>2</td>\n",
       "      <td>2</td>\n",
       "      <td>809</td>\n",
       "      <td>-50</td>\n",
       "      <td>Urban</td>\n",
       "      <td>100</td>\n",
       "    </tr>\n",
       "    <tr>\n",
       "      <th>4</th>\n",
       "      <td>36</td>\n",
       "      <td>0</td>\n",
       "      <td>Single</td>\n",
       "      <td>0</td>\n",
       "      <td>&gt;5 years</td>\n",
       "      <td>0</td>\n",
       "      <td>2</td>\n",
       "      <td>Low</td>\n",
       "      <td>100</td>\n",
       "      <td>Full Coverage</td>\n",
       "      <td>...</td>\n",
       "      <td>14</td>\n",
       "      <td>1</td>\n",
       "      <td>8</td>\n",
       "      <td>4</td>\n",
       "      <td>2</td>\n",
       "      <td>10</td>\n",
       "      <td>662</td>\n",
       "      <td>50</td>\n",
       "      <td>Suburban</td>\n",
       "      <td>50</td>\n",
       "    </tr>\n",
       "  </tbody>\n",
       "</table>\n",
       "<p>5 rows × 27 columns</p>\n",
       "</div>"
      ],
      "text/plain": [
       "   Age  Is_Senior Marital_Status  Married_Premium_Discount Prior_Insurance  \\\n",
       "0   47          0        Married                        86       1-5 years   \n",
       "1   37          0        Married                        86       1-5 years   \n",
       "2   49          0        Married                        86       1-5 years   \n",
       "3   62          1        Married                        86        >5 years   \n",
       "4   36          0         Single                         0        >5 years   \n",
       "\n",
       "   Prior_Insurance_Premium_Adjustment  Claims_Frequency Claims_Severity  \\\n",
       "0                                  50                 0             Low   \n",
       "1                                  50                 0             Low   \n",
       "2                                  50                 1             Low   \n",
       "3                                   0                 1             Low   \n",
       "4                                   0                 2             Low   \n",
       "\n",
       "   Claims_Adjustment    Policy_Type  ...  Time_Since_First_Contact  \\\n",
       "0                  0  Full Coverage  ...                        10   \n",
       "1                  0  Full Coverage  ...                        22   \n",
       "2                 50  Full Coverage  ...                        28   \n",
       "3                 50  Full Coverage  ...                         4   \n",
       "4                100  Full Coverage  ...                        14   \n",
       "\n",
       "   Conversion_Status  Website_Visits  Inquiries  Quotes_Requested  \\\n",
       "0                  0               5          1                 2   \n",
       "1                  0               5          1                 2   \n",
       "2                  0               4          4                 1   \n",
       "3                  1               6          2                 2   \n",
       "4                  1               8          4                 2   \n",
       "\n",
       "   Time_to_Conversion Credit_Score  Premium_Adjustment_Credit    Region  \\\n",
       "0                  99          704                        -50  Suburban   \n",
       "1                  99          726                        -50     Urban   \n",
       "2                  99          772                        -50     Urban   \n",
       "3                   2          809                        -50     Urban   \n",
       "4                  10          662                         50  Suburban   \n",
       "\n",
       "   Premium_Adjustment_Region  \n",
       "0                         50  \n",
       "1                        100  \n",
       "2                        100  \n",
       "3                        100  \n",
       "4                         50  \n",
       "\n",
       "[5 rows x 27 columns]"
      ]
     },
     "execution_count": 21,
     "metadata": {},
     "output_type": "execute_result"
    }
   ],
   "source": [
    "df = pd.read_csv(\"synthetic_insurance_data.csv\")\n",
    "df.head()"
   ]
  },
  {
   "cell_type": "code",
   "execution_count": 22,
   "metadata": {},
   "outputs": [],
   "source": [
    "data = ['Age', 'Is_Senior', 'Credit_Score', 'Prior_Insurance', 'Claims_Frequency', 'Policy_Type', 'Premium_Amount', 'Total_Discounts', 'Source_of_Lead', 'Website_Visits', 'Inquiries', 'Quotes_Requested', 'Time_Since_First_Contact']\n",
    "encoder = LabelEncoder()\n",
    "\n",
    "df['Prior_Insurance'] = encoder.fit_transform(df['Prior_Insurance'])\n",
    "df[\"Policy_Type\"] = encoder.fit_transform(df['Policy_Type'])\n",
    "df[\"Source_of_Lead\"] = encoder.fit_transform(df['Source_of_Lead'])"
   ]
  },
  {
   "cell_type": "code",
   "execution_count": 23,
   "metadata": {},
   "outputs": [],
   "source": [
    "X = df[data]\n",
    "y = df['Conversion_Status']"
   ]
  },
  {
   "cell_type": "code",
   "execution_count": 24,
   "metadata": {},
   "outputs": [
    {
     "data": {
      "text/plain": [
       "Conversion_Status\n",
       "1    5767\n",
       "0    4233\n",
       "Name: count, dtype: int64"
      ]
     },
     "execution_count": 24,
     "metadata": {},
     "output_type": "execute_result"
    }
   ],
   "source": [
    "df['Conversion_Status'].value_counts()"
   ]
  },
  {
   "cell_type": "code",
   "execution_count": 25,
   "metadata": {},
   "outputs": [],
   "source": [
    "X_train, X_test, y_train, y_test = train_test_split(X, y, test_size=0.2, random_state=42)"
   ]
  },
  {
   "cell_type": "markdown",
   "metadata": {},
   "source": [
    "#### Linear Model"
   ]
  },
  {
   "cell_type": "markdown",
   "metadata": {},
   "source": [
    "#### Non-Linear Model"
   ]
  },
  {
   "cell_type": "code",
   "execution_count": 29,
   "metadata": {},
   "outputs": [],
   "source": [
    "model = DecisionTreeClassifier(criterion = 'gini', random_state=42)\n",
    "model.fit(X_train, y_train)\n",
    "y_pred1 = model.predict(X_test)"
   ]
  },
  {
   "cell_type": "code",
   "execution_count": 30,
   "metadata": {},
   "outputs": [
    {
     "name": "stdout",
     "output_type": "stream",
     "text": [
      "Accuracy: 0.506\n",
      "Confusion Matrix:\n",
      "[[366 494]\n",
      " [494 646]]\n",
      "Classification Report:\n",
      "              precision    recall  f1-score   support\n",
      "\n",
      "           0       0.43      0.43      0.43       860\n",
      "           1       0.57      0.57      0.57      1140\n",
      "\n",
      "    accuracy                           0.51      2000\n",
      "   macro avg       0.50      0.50      0.50      2000\n",
      "weighted avg       0.51      0.51      0.51      2000\n",
      "\n"
     ]
    }
   ],
   "source": [
    "# Print the accuracy\n",
    "accuracy = accuracy_score(y_test, y_pred1)\n",
    "print(f'Accuracy: {accuracy}')\n",
    "\n",
    "# Print the confusion matrix\n",
    "conf_matrix = confusion_matrix(y_test, y_pred1)\n",
    "print(f'Confusion Matrix:\\n{conf_matrix}')\n",
    "\n",
    "# Print the classification report\n",
    "class_report = classification_report(y_test, y_pred1)\n",
    "print(f'Classification Report:\\n{class_report}')"
   ]
  },
  {
   "cell_type": "code",
   "execution_count": 31,
   "metadata": {},
   "outputs": [],
   "source": [
    "import pickle\n",
    "\n",
    "# Save the model\n",
    "with open('insurance_model.pkl', 'wb') as file:\n",
    "    pickle.dump(model, file)\n"
   ]
  },
  {
   "cell_type": "code",
   "execution_count": null,
   "metadata": {},
   "outputs": [],
   "source": []
  }
 ],
 "metadata": {
  "kernelspec": {
   "display_name": "Python 3",
   "language": "python",
   "name": "python3"
  },
  "language_info": {
   "codemirror_mode": {
    "name": "ipython",
    "version": 3
   },
   "file_extension": ".py",
   "mimetype": "text/x-python",
   "name": "python",
   "nbconvert_exporter": "python",
   "pygments_lexer": "ipython3",
   "version": "3.9.6"
  }
 },
 "nbformat": 4,
 "nbformat_minor": 2
}
