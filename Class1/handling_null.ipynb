{
 "cells": [
  {
   "cell_type": "code",
   "execution_count": 5,
   "metadata": {},
   "outputs": [],
   "source": [
    "import pandas as pd\n",
    "import matplotlib.pyplot as plt\n"
   ]
  },
  {
   "cell_type": "code",
   "execution_count": 6,
   "metadata": {},
   "outputs": [
    {
     "data": {
      "text/html": [
       "<div>\n",
       "<style scoped>\n",
       "    .dataframe tbody tr th:only-of-type {\n",
       "        vertical-align: middle;\n",
       "    }\n",
       "\n",
       "    .dataframe tbody tr th {\n",
       "        vertical-align: top;\n",
       "    }\n",
       "\n",
       "    .dataframe thead th {\n",
       "        text-align: right;\n",
       "    }\n",
       "</style>\n",
       "<table border=\"1\" class=\"dataframe\">\n",
       "  <thead>\n",
       "    <tr style=\"text-align: right;\">\n",
       "      <th></th>\n",
       "      <th>code</th>\n",
       "      <th>name</th>\n",
       "      <th>name_short</th>\n",
       "      <th>name_tv</th>\n",
       "      <th>gender</th>\n",
       "      <th>function</th>\n",
       "      <th>country_code</th>\n",
       "      <th>country</th>\n",
       "      <th>country_full</th>\n",
       "      <th>nationality</th>\n",
       "      <th>...</th>\n",
       "      <th>family</th>\n",
       "      <th>lang</th>\n",
       "      <th>coach</th>\n",
       "      <th>reason</th>\n",
       "      <th>hero</th>\n",
       "      <th>influence</th>\n",
       "      <th>philosophy</th>\n",
       "      <th>sporting_relatives</th>\n",
       "      <th>ritual</th>\n",
       "      <th>other_sports</th>\n",
       "    </tr>\n",
       "  </thead>\n",
       "  <tbody>\n",
       "    <tr>\n",
       "      <th>0</th>\n",
       "      <td>1532872</td>\n",
       "      <td>ALEKSANYAN Artur</td>\n",
       "      <td>ALEKSANYAN A</td>\n",
       "      <td>Artur ALEKSANYAN</td>\n",
       "      <td>Male</td>\n",
       "      <td>Athlete</td>\n",
       "      <td>ARM</td>\n",
       "      <td>Armenia</td>\n",
       "      <td>Armenia</td>\n",
       "      <td>Armenia</td>\n",
       "      <td>...</td>\n",
       "      <td>Father, Gevorg Aleksanyan</td>\n",
       "      <td>Armenian, English, Russian</td>\n",
       "      <td>Gevorg Aleksanyan (ARM), father</td>\n",
       "      <td>He followed his father and his uncle into the ...</td>\n",
       "      <td>Footballer Zinedine Zidane (FRA), World Cup wi...</td>\n",
       "      <td>His father, Gevorg Aleksanyan</td>\n",
       "      <td>\"Wrestling is my life.\" (mediamax.am. 18 May 2...</td>\n",
       "      <td>NaN</td>\n",
       "      <td>NaN</td>\n",
       "      <td>NaN</td>\n",
       "    </tr>\n",
       "    <tr>\n",
       "      <th>1</th>\n",
       "      <td>1532873</td>\n",
       "      <td>AMOYAN Malkhas</td>\n",
       "      <td>AMOYAN M</td>\n",
       "      <td>Malkhas AMOYAN</td>\n",
       "      <td>Male</td>\n",
       "      <td>Athlete</td>\n",
       "      <td>ARM</td>\n",
       "      <td>Armenia</td>\n",
       "      <td>Armenia</td>\n",
       "      <td>Armenia</td>\n",
       "      <td>...</td>\n",
       "      <td>NaN</td>\n",
       "      <td>Armenian</td>\n",
       "      <td>NaN</td>\n",
       "      <td>NaN</td>\n",
       "      <td>NaN</td>\n",
       "      <td>NaN</td>\n",
       "      <td>\"To become a good athlete, you first have to b...</td>\n",
       "      <td>Uncle, Roman Amoyan (wrestling), 2008 Olympic ...</td>\n",
       "      <td>NaN</td>\n",
       "      <td>NaN</td>\n",
       "    </tr>\n",
       "    <tr>\n",
       "      <th>2</th>\n",
       "      <td>1532874</td>\n",
       "      <td>GALSTYAN Slavik</td>\n",
       "      <td>GALSTYAN S</td>\n",
       "      <td>Slavik GALSTYAN</td>\n",
       "      <td>Male</td>\n",
       "      <td>Athlete</td>\n",
       "      <td>ARM</td>\n",
       "      <td>Armenia</td>\n",
       "      <td>Armenia</td>\n",
       "      <td>Armenia</td>\n",
       "      <td>...</td>\n",
       "      <td>NaN</td>\n",
       "      <td>Armenian</td>\n",
       "      <td>Personal: Martin Alekhanyan (ARM).&lt;br&gt;National...</td>\n",
       "      <td>NaN</td>\n",
       "      <td>NaN</td>\n",
       "      <td>NaN</td>\n",
       "      <td>NaN</td>\n",
       "      <td>NaN</td>\n",
       "      <td>NaN</td>\n",
       "      <td>NaN</td>\n",
       "    </tr>\n",
       "    <tr>\n",
       "      <th>3</th>\n",
       "      <td>1532944</td>\n",
       "      <td>HARUTYUNYAN Arsen</td>\n",
       "      <td>HARUTYUNYAN A</td>\n",
       "      <td>Arsen HARUTYUNYAN</td>\n",
       "      <td>Male</td>\n",
       "      <td>Athlete</td>\n",
       "      <td>ARM</td>\n",
       "      <td>Armenia</td>\n",
       "      <td>Armenia</td>\n",
       "      <td>Armenia</td>\n",
       "      <td>...</td>\n",
       "      <td>Wife, Diana (married October 2022). Daughter, ...</td>\n",
       "      <td>Armenian</td>\n",
       "      <td>National: Habetnak Kurghinyan</td>\n",
       "      <td>While doing karate he noticed wrestlers traini...</td>\n",
       "      <td>Wrestler Armen Nazaryan (ARM, BUL), two-time O...</td>\n",
       "      <td>NaN</td>\n",
       "      <td>“Nothing is impossible, set goals in front of ...</td>\n",
       "      <td>NaN</td>\n",
       "      <td>NaN</td>\n",
       "      <td>NaN</td>\n",
       "    </tr>\n",
       "    <tr>\n",
       "      <th>4</th>\n",
       "      <td>1532945</td>\n",
       "      <td>TEVANYAN Vazgen</td>\n",
       "      <td>TEVANYAN V</td>\n",
       "      <td>Vazgen TEVANYAN</td>\n",
       "      <td>Male</td>\n",
       "      <td>Athlete</td>\n",
       "      <td>ARM</td>\n",
       "      <td>Armenia</td>\n",
       "      <td>Armenia</td>\n",
       "      <td>Armenia</td>\n",
       "      <td>...</td>\n",
       "      <td>Wife, Sona (married November 2023)</td>\n",
       "      <td>Armenian, Russian</td>\n",
       "      <td>National: Habetnak Kurghinyan (ARM)</td>\n",
       "      <td>“My family did not like wrestling very much. A...</td>\n",
       "      <td>NaN</td>\n",
       "      <td>NaN</td>\n",
       "      <td>NaN</td>\n",
       "      <td>NaN</td>\n",
       "      <td>NaN</td>\n",
       "      <td>NaN</td>\n",
       "    </tr>\n",
       "  </tbody>\n",
       "</table>\n",
       "<p>5 rows × 35 columns</p>\n",
       "</div>"
      ],
      "text/plain": [
       "      code               name     name_short            name_tv gender  \\\n",
       "0  1532872   ALEKSANYAN Artur   ALEKSANYAN A   Artur ALEKSANYAN   Male   \n",
       "1  1532873     AMOYAN Malkhas       AMOYAN M     Malkhas AMOYAN   Male   \n",
       "2  1532874    GALSTYAN Slavik     GALSTYAN S    Slavik GALSTYAN   Male   \n",
       "3  1532944  HARUTYUNYAN Arsen  HARUTYUNYAN A  Arsen HARUTYUNYAN   Male   \n",
       "4  1532945    TEVANYAN Vazgen     TEVANYAN V    Vazgen TEVANYAN   Male   \n",
       "\n",
       "  function country_code  country country_full nationality  ...  \\\n",
       "0  Athlete          ARM  Armenia      Armenia     Armenia  ...   \n",
       "1  Athlete          ARM  Armenia      Armenia     Armenia  ...   \n",
       "2  Athlete          ARM  Armenia      Armenia     Armenia  ...   \n",
       "3  Athlete          ARM  Armenia      Armenia     Armenia  ...   \n",
       "4  Athlete          ARM  Armenia      Armenia     Armenia  ...   \n",
       "\n",
       "                                              family  \\\n",
       "0                          Father, Gevorg Aleksanyan   \n",
       "1                                                NaN   \n",
       "2                                                NaN   \n",
       "3  Wife, Diana (married October 2022). Daughter, ...   \n",
       "4                 Wife, Sona (married November 2023)   \n",
       "\n",
       "                         lang  \\\n",
       "0  Armenian, English, Russian   \n",
       "1                    Armenian   \n",
       "2                    Armenian   \n",
       "3                    Armenian   \n",
       "4           Armenian, Russian   \n",
       "\n",
       "                                               coach  \\\n",
       "0                    Gevorg Aleksanyan (ARM), father   \n",
       "1                                                NaN   \n",
       "2  Personal: Martin Alekhanyan (ARM).<br>National...   \n",
       "3                      National: Habetnak Kurghinyan   \n",
       "4                National: Habetnak Kurghinyan (ARM)   \n",
       "\n",
       "                                              reason  \\\n",
       "0  He followed his father and his uncle into the ...   \n",
       "1                                                NaN   \n",
       "2                                                NaN   \n",
       "3  While doing karate he noticed wrestlers traini...   \n",
       "4  “My family did not like wrestling very much. A...   \n",
       "\n",
       "                                                hero  \\\n",
       "0  Footballer Zinedine Zidane (FRA), World Cup wi...   \n",
       "1                                                NaN   \n",
       "2                                                NaN   \n",
       "3  Wrestler Armen Nazaryan (ARM, BUL), two-time O...   \n",
       "4                                                NaN   \n",
       "\n",
       "                       influence  \\\n",
       "0  His father, Gevorg Aleksanyan   \n",
       "1                            NaN   \n",
       "2                            NaN   \n",
       "3                            NaN   \n",
       "4                            NaN   \n",
       "\n",
       "                                          philosophy  \\\n",
       "0  \"Wrestling is my life.\" (mediamax.am. 18 May 2...   \n",
       "1  \"To become a good athlete, you first have to b...   \n",
       "2                                                NaN   \n",
       "3  “Nothing is impossible, set goals in front of ...   \n",
       "4                                                NaN   \n",
       "\n",
       "                                  sporting_relatives ritual other_sports  \n",
       "0                                                NaN    NaN          NaN  \n",
       "1  Uncle, Roman Amoyan (wrestling), 2008 Olympic ...    NaN          NaN  \n",
       "2                                                NaN    NaN          NaN  \n",
       "3                                                NaN    NaN          NaN  \n",
       "4                                                NaN    NaN          NaN  \n",
       "\n",
       "[5 rows x 35 columns]"
      ]
     },
     "execution_count": 6,
     "metadata": {},
     "output_type": "execute_result"
    }
   ],
   "source": [
    "df = pd.read_csv('athletes.csv')\n",
    "df.head()"
   ]
  },
  {
   "cell_type": "code",
   "execution_count": 37,
   "metadata": {},
   "outputs": [
    {
     "name": "stdout",
     "output_type": "stream",
     "text": [
      "<class 'pandas.core.frame.DataFrame'>\n",
      "RangeIndex: 11110 entries, 0 to 11109\n",
      "Data columns (total 35 columns):\n",
      " #   Column              Non-Null Count  Dtype  \n",
      "---  ------              --------------  -----  \n",
      " 0   code                11110 non-null  int64  \n",
      " 1   name                11110 non-null  object \n",
      " 2   name_short          11110 non-null  object \n",
      " 3   name_tv             11110 non-null  object \n",
      " 4   gender              11110 non-null  object \n",
      " 5   function            11110 non-null  object \n",
      " 6   country_code        11110 non-null  object \n",
      " 7   country             11110 non-null  object \n",
      " 8   country_full        11110 non-null  object \n",
      " 9   nationality         11091 non-null  object \n",
      " 10  nationality_full    11091 non-null  object \n",
      " 11  nationality_code    11091 non-null  object \n",
      " 12  height              11110 non-null  int64  \n",
      " 13  weight              11092 non-null  float64\n",
      " 14  disciplines         11110 non-null  object \n",
      " 15  events              11110 non-null  object \n",
      " 16  birth_date          11110 non-null  object \n",
      " 17  birth_place         8713 non-null   object \n",
      " 18  birth_country       9461 non-null   object \n",
      " 19  residence_place     6792 non-null   object \n",
      " 20  residence_country   8276 non-null   object \n",
      " 21  nickname            2963 non-null   object \n",
      " 22  hobbies             4201 non-null   object \n",
      " 23  occupation          9571 non-null   object \n",
      " 24  education           5531 non-null   object \n",
      " 25  family              5555 non-null   object \n",
      " 26  lang                10588 non-null  object \n",
      " 27  coach               8212 non-null   object \n",
      " 28  reason              5838 non-null   object \n",
      " 29  hero                3312 non-null   object \n",
      " 30  influence           2151 non-null   object \n",
      " 31  philosophy          2779 non-null   object \n",
      " 32  sporting_relatives  2516 non-null   object \n",
      " 33  ritual              856 non-null    object \n",
      " 34  other_sports        1057 non-null   object \n",
      "dtypes: float64(1), int64(2), object(32)\n",
      "memory usage: 3.0+ MB\n"
     ]
    }
   ],
   "source": [
    "df.info()"
   ]
  },
  {
   "cell_type": "code",
   "execution_count": 38,
   "metadata": {},
   "outputs": [
    {
     "data": {
      "text/html": [
       "<div>\n",
       "<style scoped>\n",
       "    .dataframe tbody tr th:only-of-type {\n",
       "        vertical-align: middle;\n",
       "    }\n",
       "\n",
       "    .dataframe tbody tr th {\n",
       "        vertical-align: top;\n",
       "    }\n",
       "\n",
       "    .dataframe thead th {\n",
       "        text-align: right;\n",
       "    }\n",
       "</style>\n",
       "<table border=\"1\" class=\"dataframe\">\n",
       "  <thead>\n",
       "    <tr style=\"text-align: right;\">\n",
       "      <th></th>\n",
       "      <th>code</th>\n",
       "      <th>height</th>\n",
       "      <th>weight</th>\n",
       "    </tr>\n",
       "  </thead>\n",
       "  <tbody>\n",
       "    <tr>\n",
       "      <th>count</th>\n",
       "      <td>1.111000e+04</td>\n",
       "      <td>11110.000000</td>\n",
       "      <td>11092.000000</td>\n",
       "    </tr>\n",
       "    <tr>\n",
       "      <th>mean</th>\n",
       "      <td>1.887406e+06</td>\n",
       "      <td>81.798830</td>\n",
       "      <td>2.215110</td>\n",
       "    </tr>\n",
       "    <tr>\n",
       "      <th>std</th>\n",
       "      <td>3.588479e+05</td>\n",
       "      <td>89.508247</td>\n",
       "      <td>13.118791</td>\n",
       "    </tr>\n",
       "    <tr>\n",
       "      <th>min</th>\n",
       "      <td>1.532872e+06</td>\n",
       "      <td>0.000000</td>\n",
       "      <td>0.000000</td>\n",
       "    </tr>\n",
       "    <tr>\n",
       "      <th>25%</th>\n",
       "      <td>1.888182e+06</td>\n",
       "      <td>0.000000</td>\n",
       "      <td>0.000000</td>\n",
       "    </tr>\n",
       "    <tr>\n",
       "      <th>50%</th>\n",
       "      <td>1.918839e+06</td>\n",
       "      <td>0.000000</td>\n",
       "      <td>0.000000</td>\n",
       "    </tr>\n",
       "    <tr>\n",
       "      <th>75%</th>\n",
       "      <td>1.948950e+06</td>\n",
       "      <td>177.000000</td>\n",
       "      <td>0.000000</td>\n",
       "    </tr>\n",
       "    <tr>\n",
       "      <th>max</th>\n",
       "      <td>9.460001e+06</td>\n",
       "      <td>222.000000</td>\n",
       "      <td>113.000000</td>\n",
       "    </tr>\n",
       "  </tbody>\n",
       "</table>\n",
       "</div>"
      ],
      "text/plain": [
       "               code        height        weight\n",
       "count  1.111000e+04  11110.000000  11092.000000\n",
       "mean   1.887406e+06     81.798830      2.215110\n",
       "std    3.588479e+05     89.508247     13.118791\n",
       "min    1.532872e+06      0.000000      0.000000\n",
       "25%    1.888182e+06      0.000000      0.000000\n",
       "50%    1.918839e+06      0.000000      0.000000\n",
       "75%    1.948950e+06    177.000000      0.000000\n",
       "max    9.460001e+06    222.000000    113.000000"
      ]
     },
     "execution_count": 38,
     "metadata": {},
     "output_type": "execute_result"
    }
   ],
   "source": [
    "df.describe()"
   ]
  },
  {
   "cell_type": "code",
   "execution_count": 57,
   "metadata": {},
   "outputs": [
    {
     "data": {
      "text/plain": [
       "code                 0\n",
       "name                 0\n",
       "name_short           0\n",
       "name_tv              0\n",
       "gender               0\n",
       "function             0\n",
       "country_code         0\n",
       "country              0\n",
       "country_full         0\n",
       "nationality          0\n",
       "nationality_full     0\n",
       "nationality_code     0\n",
       "height               0\n",
       "weight               0\n",
       "disciplines          0\n",
       "events               0\n",
       "birth_date           0\n",
       "birth_place          0\n",
       "birth_country        0\n",
       "residence_place      0\n",
       "residence_country    0\n",
       "hobbies              0\n",
       "occupation           0\n",
       "education            0\n",
       "family               0\n",
       "lang                 0\n",
       "coach                0\n",
       "reason               0\n",
       "dtype: int64"
      ]
     },
     "execution_count": 57,
     "metadata": {},
     "output_type": "execute_result"
    }
   ],
   "source": [
    "df.isnull().sum()"
   ]
  },
  {
   "cell_type": "code",
   "execution_count": 56,
   "metadata": {},
   "outputs": [
    {
     "data": {
      "text/plain": [
       "code                 False\n",
       "name                 False\n",
       "name_short           False\n",
       "name_tv              False\n",
       "gender               False\n",
       "function             False\n",
       "country_code         False\n",
       "country              False\n",
       "country_full         False\n",
       "nationality          False\n",
       "nationality_full     False\n",
       "nationality_code     False\n",
       "height               False\n",
       "weight               False\n",
       "disciplines          False\n",
       "events               False\n",
       "birth_date           False\n",
       "birth_place          False\n",
       "birth_country        False\n",
       "residence_place      False\n",
       "residence_country    False\n",
       "hobbies              False\n",
       "occupation           False\n",
       "education            False\n",
       "family               False\n",
       "lang                 False\n",
       "coach                False\n",
       "reason               False\n",
       "dtype: bool"
      ]
     },
     "execution_count": 56,
     "metadata": {},
     "output_type": "execute_result"
    }
   ],
   "source": [
    "df.isnull().any()"
   ]
  },
  {
   "cell_type": "code",
   "execution_count": 41,
   "metadata": {},
   "outputs": [
    {
     "data": {
      "text/plain": [
       "np.int64(101683)"
      ]
     },
     "execution_count": 41,
     "metadata": {},
     "output_type": "execute_result"
    }
   ],
   "source": [
    "df.isnull().sum().sum()"
   ]
  },
  {
   "cell_type": "code",
   "execution_count": 42,
   "metadata": {},
   "outputs": [
    {
     "name": "stdout",
     "output_type": "stream",
     "text": [
      "code                   0.000000\n",
      "name                   0.000000\n",
      "name_short             0.000000\n",
      "name_tv                0.000000\n",
      "gender                 0.000000\n",
      "function               0.000000\n",
      "country_code           0.000000\n",
      "country                0.000000\n",
      "country_full           0.000000\n",
      "nationality            0.171017\n",
      "nationality_full       0.171017\n",
      "nationality_code       0.171017\n",
      "height                 0.000000\n",
      "weight                 0.162016\n",
      "disciplines            0.000000\n",
      "events                 0.000000\n",
      "birth_date             0.000000\n",
      "birth_place           21.575158\n",
      "birth_country         14.842484\n",
      "residence_place       38.865887\n",
      "residence_country     25.508551\n",
      "nickname              73.330333\n",
      "hobbies               62.187219\n",
      "occupation            13.852385\n",
      "education             50.216022\n",
      "family                50.000000\n",
      "lang                   4.698470\n",
      "coach                 26.084608\n",
      "reason                47.452745\n",
      "hero                  70.189019\n",
      "influence             80.639064\n",
      "philosophy            74.986499\n",
      "sporting_relatives    77.353735\n",
      "ritual                92.295230\n",
      "other_sports          90.486049\n",
      "dtype: float64\n"
     ]
    }
   ],
   "source": [
    "null_per = df.isnull().mean() * 100\n",
    "print(null_per)"
   ]
  },
  {
   "cell_type": "code",
   "execution_count": 43,
   "metadata": {},
   "outputs": [],
   "source": [
    "df.drop(columns=null_per[null_per > 80].index, inplace=True)"
   ]
  },
  {
   "cell_type": "code",
   "execution_count": 44,
   "metadata": {},
   "outputs": [
    {
     "data": {
      "text/html": [
       "<div>\n",
       "<style scoped>\n",
       "    .dataframe tbody tr th:only-of-type {\n",
       "        vertical-align: middle;\n",
       "    }\n",
       "\n",
       "    .dataframe tbody tr th {\n",
       "        vertical-align: top;\n",
       "    }\n",
       "\n",
       "    .dataframe thead th {\n",
       "        text-align: right;\n",
       "    }\n",
       "</style>\n",
       "<table border=\"1\" class=\"dataframe\">\n",
       "  <thead>\n",
       "    <tr style=\"text-align: right;\">\n",
       "      <th></th>\n",
       "      <th>code</th>\n",
       "      <th>name</th>\n",
       "      <th>name_short</th>\n",
       "      <th>name_tv</th>\n",
       "      <th>gender</th>\n",
       "      <th>function</th>\n",
       "      <th>country_code</th>\n",
       "      <th>country</th>\n",
       "      <th>country_full</th>\n",
       "      <th>nationality</th>\n",
       "      <th>...</th>\n",
       "      <th>birth_country</th>\n",
       "      <th>residence_place</th>\n",
       "      <th>residence_country</th>\n",
       "      <th>hobbies</th>\n",
       "      <th>occupation</th>\n",
       "      <th>education</th>\n",
       "      <th>family</th>\n",
       "      <th>lang</th>\n",
       "      <th>coach</th>\n",
       "      <th>reason</th>\n",
       "    </tr>\n",
       "  </thead>\n",
       "  <tbody>\n",
       "    <tr>\n",
       "      <th>0</th>\n",
       "      <td>1532872</td>\n",
       "      <td>ALEKSANYAN Artur</td>\n",
       "      <td>ALEKSANYAN A</td>\n",
       "      <td>Artur ALEKSANYAN</td>\n",
       "      <td>Male</td>\n",
       "      <td>Athlete</td>\n",
       "      <td>ARM</td>\n",
       "      <td>Armenia</td>\n",
       "      <td>Armenia</td>\n",
       "      <td>Armenia</td>\n",
       "      <td>...</td>\n",
       "      <td>Armenia</td>\n",
       "      <td>GYUMRI</td>\n",
       "      <td>Armenia</td>\n",
       "      <td>Playing and watching football</td>\n",
       "      <td>Athlete</td>\n",
       "      <td>Graduated from Shirak State University (Gyumri...</td>\n",
       "      <td>Father, Gevorg Aleksanyan</td>\n",
       "      <td>Armenian, English, Russian</td>\n",
       "      <td>Gevorg Aleksanyan (ARM), father</td>\n",
       "      <td>He followed his father and his uncle into the ...</td>\n",
       "    </tr>\n",
       "    <tr>\n",
       "      <th>1</th>\n",
       "      <td>1532873</td>\n",
       "      <td>AMOYAN Malkhas</td>\n",
       "      <td>AMOYAN M</td>\n",
       "      <td>Malkhas AMOYAN</td>\n",
       "      <td>Male</td>\n",
       "      <td>Athlete</td>\n",
       "      <td>ARM</td>\n",
       "      <td>Armenia</td>\n",
       "      <td>Armenia</td>\n",
       "      <td>Armenia</td>\n",
       "      <td>...</td>\n",
       "      <td>Armenia</td>\n",
       "      <td>YEREVAN</td>\n",
       "      <td>Armenia</td>\n",
       "      <td>NaN</td>\n",
       "      <td>NaN</td>\n",
       "      <td>NaN</td>\n",
       "      <td>NaN</td>\n",
       "      <td>Armenian</td>\n",
       "      <td>NaN</td>\n",
       "      <td>NaN</td>\n",
       "    </tr>\n",
       "    <tr>\n",
       "      <th>2</th>\n",
       "      <td>1532874</td>\n",
       "      <td>GALSTYAN Slavik</td>\n",
       "      <td>GALSTYAN S</td>\n",
       "      <td>Slavik GALSTYAN</td>\n",
       "      <td>Male</td>\n",
       "      <td>Athlete</td>\n",
       "      <td>ARM</td>\n",
       "      <td>Armenia</td>\n",
       "      <td>Armenia</td>\n",
       "      <td>Armenia</td>\n",
       "      <td>...</td>\n",
       "      <td>NaN</td>\n",
       "      <td>YEREVAN</td>\n",
       "      <td>Armenia</td>\n",
       "      <td>NaN</td>\n",
       "      <td>NaN</td>\n",
       "      <td>NaN</td>\n",
       "      <td>NaN</td>\n",
       "      <td>Armenian</td>\n",
       "      <td>Personal: Martin Alekhanyan (ARM).&lt;br&gt;National...</td>\n",
       "      <td>NaN</td>\n",
       "    </tr>\n",
       "    <tr>\n",
       "      <th>3</th>\n",
       "      <td>1532944</td>\n",
       "      <td>HARUTYUNYAN Arsen</td>\n",
       "      <td>HARUTYUNYAN A</td>\n",
       "      <td>Arsen HARUTYUNYAN</td>\n",
       "      <td>Male</td>\n",
       "      <td>Athlete</td>\n",
       "      <td>ARM</td>\n",
       "      <td>Armenia</td>\n",
       "      <td>Armenia</td>\n",
       "      <td>Armenia</td>\n",
       "      <td>...</td>\n",
       "      <td>Armenia</td>\n",
       "      <td>YEREVAN</td>\n",
       "      <td>Armenia</td>\n",
       "      <td>NaN</td>\n",
       "      <td>Athlete</td>\n",
       "      <td>Graduated with a Master's degree from the Arme...</td>\n",
       "      <td>Wife, Diana (married October 2022). Daughter, ...</td>\n",
       "      <td>Armenian</td>\n",
       "      <td>National: Habetnak Kurghinyan</td>\n",
       "      <td>While doing karate he noticed wrestlers traini...</td>\n",
       "    </tr>\n",
       "    <tr>\n",
       "      <th>4</th>\n",
       "      <td>1532945</td>\n",
       "      <td>TEVANYAN Vazgen</td>\n",
       "      <td>TEVANYAN V</td>\n",
       "      <td>Vazgen TEVANYAN</td>\n",
       "      <td>Male</td>\n",
       "      <td>Athlete</td>\n",
       "      <td>ARM</td>\n",
       "      <td>Armenia</td>\n",
       "      <td>Armenia</td>\n",
       "      <td>Armenia</td>\n",
       "      <td>...</td>\n",
       "      <td>Armenia</td>\n",
       "      <td>NaN</td>\n",
       "      <td>Armenia</td>\n",
       "      <td>NaN</td>\n",
       "      <td>Athlete</td>\n",
       "      <td>Studied at the Armenian State Institute of Phy...</td>\n",
       "      <td>Wife, Sona (married November 2023)</td>\n",
       "      <td>Armenian, Russian</td>\n",
       "      <td>National: Habetnak Kurghinyan (ARM)</td>\n",
       "      <td>“My family did not like wrestling very much. A...</td>\n",
       "    </tr>\n",
       "  </tbody>\n",
       "</table>\n",
       "<p>5 rows × 28 columns</p>\n",
       "</div>"
      ],
      "text/plain": [
       "      code               name     name_short            name_tv gender  \\\n",
       "0  1532872   ALEKSANYAN Artur   ALEKSANYAN A   Artur ALEKSANYAN   Male   \n",
       "1  1532873     AMOYAN Malkhas       AMOYAN M     Malkhas AMOYAN   Male   \n",
       "2  1532874    GALSTYAN Slavik     GALSTYAN S    Slavik GALSTYAN   Male   \n",
       "3  1532944  HARUTYUNYAN Arsen  HARUTYUNYAN A  Arsen HARUTYUNYAN   Male   \n",
       "4  1532945    TEVANYAN Vazgen     TEVANYAN V    Vazgen TEVANYAN   Male   \n",
       "\n",
       "  function country_code  country country_full nationality  ... birth_country  \\\n",
       "0  Athlete          ARM  Armenia      Armenia     Armenia  ...       Armenia   \n",
       "1  Athlete          ARM  Armenia      Armenia     Armenia  ...       Armenia   \n",
       "2  Athlete          ARM  Armenia      Armenia     Armenia  ...           NaN   \n",
       "3  Athlete          ARM  Armenia      Armenia     Armenia  ...       Armenia   \n",
       "4  Athlete          ARM  Armenia      Armenia     Armenia  ...       Armenia   \n",
       "\n",
       "  residence_place  residence_country                        hobbies  \\\n",
       "0          GYUMRI            Armenia  Playing and watching football   \n",
       "1         YEREVAN            Armenia                            NaN   \n",
       "2         YEREVAN            Armenia                            NaN   \n",
       "3         YEREVAN            Armenia                            NaN   \n",
       "4             NaN            Armenia                            NaN   \n",
       "\n",
       "  occupation                                          education  \\\n",
       "0    Athlete  Graduated from Shirak State University (Gyumri...   \n",
       "1        NaN                                                NaN   \n",
       "2        NaN                                                NaN   \n",
       "3    Athlete  Graduated with a Master's degree from the Arme...   \n",
       "4    Athlete  Studied at the Armenian State Institute of Phy...   \n",
       "\n",
       "                                              family  \\\n",
       "0                          Father, Gevorg Aleksanyan   \n",
       "1                                                NaN   \n",
       "2                                                NaN   \n",
       "3  Wife, Diana (married October 2022). Daughter, ...   \n",
       "4                 Wife, Sona (married November 2023)   \n",
       "\n",
       "                         lang  \\\n",
       "0  Armenian, English, Russian   \n",
       "1                    Armenian   \n",
       "2                    Armenian   \n",
       "3                    Armenian   \n",
       "4           Armenian, Russian   \n",
       "\n",
       "                                               coach  \\\n",
       "0                    Gevorg Aleksanyan (ARM), father   \n",
       "1                                                NaN   \n",
       "2  Personal: Martin Alekhanyan (ARM).<br>National...   \n",
       "3                      National: Habetnak Kurghinyan   \n",
       "4                National: Habetnak Kurghinyan (ARM)   \n",
       "\n",
       "                                              reason  \n",
       "0  He followed his father and his uncle into the ...  \n",
       "1                                                NaN  \n",
       "2                                                NaN  \n",
       "3  While doing karate he noticed wrestlers traini...  \n",
       "4  “My family did not like wrestling very much. A...  \n",
       "\n",
       "[5 rows x 28 columns]"
      ]
     },
     "execution_count": 44,
     "metadata": {},
     "output_type": "execute_result"
    }
   ],
   "source": [
    "df.head()"
   ]
  },
  {
   "cell_type": "code",
   "execution_count": 46,
   "metadata": {},
   "outputs": [
    {
     "name": "stdout",
     "output_type": "stream",
     "text": [
      "code                  0.000000\n",
      "name                  0.000000\n",
      "name_short            0.000000\n",
      "name_tv               0.000000\n",
      "gender                0.000000\n",
      "function              0.000000\n",
      "country_code          0.000000\n",
      "country               0.000000\n",
      "country_full          0.000000\n",
      "nationality           0.171017\n",
      "nationality_full      0.171017\n",
      "nationality_code      0.171017\n",
      "height                0.000000\n",
      "weight                0.162016\n",
      "disciplines           0.000000\n",
      "events                0.000000\n",
      "birth_date            0.000000\n",
      "birth_place          21.575158\n",
      "birth_country        14.842484\n",
      "residence_place      38.865887\n",
      "residence_country    25.508551\n",
      "hobbies              62.187219\n",
      "occupation           13.852385\n",
      "education            50.216022\n",
      "family               50.000000\n",
      "lang                  4.698470\n",
      "coach                26.084608\n",
      "reason               47.452745\n",
      "dtype: float64\n"
     ]
    }
   ],
   "source": [
    "null_per = df.isnull().mean() * 100\n",
    "print(null_per)"
   ]
  },
  {
   "cell_type": "code",
   "execution_count": null,
   "metadata": {},
   "outputs": [
    {
     "name": "stderr",
     "output_type": "stream",
     "text": [
      "/var/folders/mh/vq9sbyf90916w8fzlwkc0g240000gn/T/ipykernel_87985/2177247367.py:7: FutureWarning: A value is trying to be set on a copy of a DataFrame or Series through chained assignment using an inplace method.\n",
      "The behavior will change in pandas 3.0. This inplace method will never work because the intermediate object on which we are setting values always behaves as a copy.\n",
      "\n",
      "For example, when doing 'df[col].method(value, inplace=True)', try using 'df.method({col: value}, inplace=True)' or df[col] = df[col].method(value) instead, to perform the operation inplace on the original object.\n",
      "\n",
      "\n",
      "  df[col].fillna(mode_value, inplace=True)  # Replace NaN with mode\n"
     ]
    }
   ],
   "source": [
    "# Identify object columns\n",
    "float_cols = df.select_dtypes(include=['object']).columns\n",
    "\n",
    "# Replace null values in float columns with their mode\n",
    "for col in float_cols:\n",
    "    mode_value = df[col].mode()[0]  \n",
    "    df[col].fillna(mode_value, inplace=True)  \n"
   ]
  },
  {
   "cell_type": "code",
   "execution_count": 52,
   "metadata": {},
   "outputs": [
    {
     "name": "stderr",
     "output_type": "stream",
     "text": [
      "/var/folders/mh/vq9sbyf90916w8fzlwkc0g240000gn/T/ipykernel_87985/2749967547.py:7: FutureWarning: A value is trying to be set on a copy of a DataFrame or Series through chained assignment using an inplace method.\n",
      "The behavior will change in pandas 3.0. This inplace method will never work because the intermediate object on which we are setting values always behaves as a copy.\n",
      "\n",
      "For example, when doing 'df[col].method(value, inplace=True)', try using 'df.method({col: value}, inplace=True)' or df[col] = df[col].method(value) instead, to perform the operation inplace on the original object.\n",
      "\n",
      "\n",
      "  df[col].fillna(median_value, inplace=True)  # Replace NaN with median\n"
     ]
    }
   ],
   "source": [
    "# Identify float columns\n",
    "float_cols = df.select_dtypes(include=['float']).columns\n",
    "\n",
    "# Replace null values in float columns with their mode\n",
    "for col in float_cols:\n",
    "   median_value = df[col].median()  \n",
    "   df[col].fillna(median_value, inplace=True)  \n"
   ]
  },
  {
   "cell_type": "code",
   "execution_count": 53,
   "metadata": {},
   "outputs": [
    {
     "name": "stdout",
     "output_type": "stream",
     "text": [
      "code                 0.0\n",
      "name                 0.0\n",
      "name_short           0.0\n",
      "name_tv              0.0\n",
      "gender               0.0\n",
      "function             0.0\n",
      "country_code         0.0\n",
      "country              0.0\n",
      "country_full         0.0\n",
      "nationality          0.0\n",
      "nationality_full     0.0\n",
      "nationality_code     0.0\n",
      "height               0.0\n",
      "weight               0.0\n",
      "disciplines          0.0\n",
      "events               0.0\n",
      "birth_date           0.0\n",
      "birth_place          0.0\n",
      "birth_country        0.0\n",
      "residence_place      0.0\n",
      "residence_country    0.0\n",
      "hobbies              0.0\n",
      "occupation           0.0\n",
      "education            0.0\n",
      "family               0.0\n",
      "lang                 0.0\n",
      "coach                0.0\n",
      "reason               0.0\n",
      "dtype: float64\n"
     ]
    }
   ],
   "source": [
    "null_per = df.isnull().mean() * 100\n",
    "print(null_per)"
   ]
  },
  {
   "cell_type": "code",
   "execution_count": 54,
   "metadata": {},
   "outputs": [
    {
     "name": "stdout",
     "output_type": "stream",
     "text": [
      "missing values after handling is : \n",
      "code                 0\n",
      "name                 0\n",
      "name_short           0\n",
      "name_tv              0\n",
      "gender               0\n",
      "function             0\n",
      "country_code         0\n",
      "country              0\n",
      "country_full         0\n",
      "nationality          0\n",
      "nationality_full     0\n",
      "nationality_code     0\n",
      "height               0\n",
      "weight               0\n",
      "disciplines          0\n",
      "events               0\n",
      "birth_date           0\n",
      "birth_place          0\n",
      "birth_country        0\n",
      "residence_place      0\n",
      "residence_country    0\n",
      "hobbies              0\n",
      "occupation           0\n",
      "education            0\n",
      "family               0\n",
      "lang                 0\n",
      "coach                0\n",
      "reason               0\n",
      "dtype: int64\n"
     ]
    }
   ],
   "source": [
    "print(f\"missing values after handling is : \\n{df.isnull().sum()}\")"
   ]
  },
  {
   "cell_type": "code",
   "execution_count": 55,
   "metadata": {},
   "outputs": [
    {
     "name": "stdout",
     "output_type": "stream",
     "text": [
      "File saved into the athletes_cleaned.csv\n"
     ]
    }
   ],
   "source": [
    "# index = flase or index will be there after the column\n",
    "df.to_csv('athletes_cleaned.csv', index=False)\n",
    "print(\"File saved into the athletes_cleaned.csv\")"
   ]
  },
  {
   "cell_type": "markdown",
   "metadata": {},
   "source": [
    "## Data Visualization"
   ]
  },
  {
   "cell_type": "code",
   "execution_count": 8,
   "metadata": {},
   "outputs": [
    {
     "data": {
      "image/png": "[encoded data removed]",
      "text/plain": [
       "<Figure size 800x600 with 1 Axes>"
      ]
     },
     "metadata": {},
     "output_type": "display_data"
    }
   ],
   "source": [
    "\n",
    "plt.figure(figsize = (8,6))\n",
    "pclass_count = df[\"gender\"].value_counts()\n",
    "pclass_count.plot(kind = 'bar', color = 'skyblue', edgecolor = 'black') \n",
    "plt.xlabel('Gender')\n",
    "plt.ylabel('Count')\n",
    "plt.xticks(rotation = 0)\n",
    "plt.show()"
   ]
  },
  {
   "cell_type": "code",
   "execution_count": 13,
   "metadata": {},
   "outputs": [
    {
     "data": {
      "image/png": "[encoded data removed]",
      "text/plain": [
       "<Figure size 800x600 with 1 Axes>"
      ]
     },
     "metadata": {},
     "output_type": "display_data"
    }
   ],
   "source": [
    "plt.figure(figsize = (8,6))\n",
    "plt.hist(df['height'], bins = 28, color = 'green', edgecolor = 'black') #bins -> interval gap\n",
    "plt.title('height distribution')\n",
    "plt.xlabel('height')\n",
    "plt.ylabel('frequency')\n",
    "plt.show()"
   ]
  },
  {
   "cell_type": "code",
   "execution_count": 15,
   "metadata": {},
   "outputs": [
    {
     "data": {
      "image/png": "[encoded data removed]",
      "text/plain": [
       "<Figure size 800x600 with 1 Axes>"
      ]
     },
     "metadata": {},
     "output_type": "display_data"
    }
   ],
   "source": [
    "plt.figure(figsize = (8,6))\n",
    "s_count = df[\"gender\"].value_counts()\n",
    "name = ['Male', 'Female']\n",
    "plt.pie(s_count, labels = name, autopct = '%1.3f%%', startangle = 90, colors = ['skyblue', 'pink'])\n",
    "# autopct -> to display percentage with decimal \n",
    "# start angle -> to rotate the pie chart\n",
    "plt.title(\"Gender distribution\")\n",
    "plt.show()"
   ]
  },
  {
   "cell_type": "code",
   "execution_count": 16,
   "metadata": {},
   "outputs": [
    {
     "data": {
      "image/png": "[encoded data removed]",
      "text/plain": [
       "<Figure size 800x600 with 1 Axes>"
      ]
     },
     "metadata": {},
     "output_type": "display_data"
    }
   ],
   "source": [
    "plt.figure(figsize = (8,6))\n",
    "plt.scatter(df['height'], df['weight'], c = 'skyblue', edgecolor = 'k', alpha = 0.5)\n",
    "# alpha -> to control the transparency\n",
    "# k -> black color\n",
    "plt.title('height vs weight')\n",
    "plt.xlabel('height')\n",
    "plt.ylabel('weight')\n",
    "plt.show()\n"
   ]
  },
  {
   "cell_type": "code",
   "execution_count": 18,
   "metadata": {},
   "outputs": [
    {
     "data": {
      "image/png": "[encoded data removed]",
      "text/plain": [
       "<Figure size 800x600 with 1 Axes>"
      ]
     },
     "metadata": {},
     "output_type": "display_data"
    }
   ],
   "source": [
    "plt.figure(figsize = (8,6))\n",
    "plt.plot(df.index, df['weight'], c = 'orange', lw = 2)\n",
    "# lw -> line width\n",
    "plt.title('Weight distribution')\n",
    "plt.xlabel('Index')\n",
    "plt.ylabel('Weight')\n",
    "plt.show()\n"
   ]
  },
  {
   "cell_type": "code",
   "execution_count": 19,
   "metadata": {},
   "outputs": [
    {
     "data": {
      "text/plain": [
       "<Figure size 800x600 with 0 Axes>"
      ]
     },
     "metadata": {},
     "output_type": "display_data"
    },
    {
     "data": {
      "image/png": "[encoded data removed]",
      "text/plain": [
       "<Figure size 640x480 with 1 Axes>"
      ]
     },
     "metadata": {},
     "output_type": "display_data"
    }
   ],
   "source": [
    "plt.figure(figsize = (8,6))\n",
    "df.boxplot(column = 'height', by = 'gender', grid = False, patch_artist = True)\n",
    "# patch_artist -> to fill the boxplot with color\n",
    "plt.suptitle('')\n",
    "plt.title('Boxplot distribution')\n",
    "plt.xlabel('gender')\n",
    "plt.ylabel('height')\n",
    "plt.show()\n",
    "# Higer viscus, lower viscus, median(greenline), outliers"
   ]
  },
  {
   "cell_type": "code",
   "execution_count": 20,
   "metadata": {},
   "outputs": [
    {
     "data": {
      "image/png": "[encoded data removed]",
      "text/plain": [
       "<Figure size 800x600 with 1 Axes>"
      ]
     },
     "metadata": {},
     "output_type": "display_data"
    }
   ],
   "source": [
    "plt.figure(figsize = (8,6))\n",
    "s_count = df[\"gender\"].value_counts()\n",
    "name = ['Male', 'Female']\n",
    "plt.pie(s_count, labels = name, autopct = '%1.3f%%', startangle = 90, colors = ['skyblue', 'pink'], wedgeprops=dict(width=0.4))\n",
    "# autopct -> to display percentage with decimal \n",
    "# start angle -> to rotate the pie chart\n",
    "plt.title(\"Gender distribution\")\n",
    "plt.show()"
   ]
  },
  {
   "cell_type": "code",
   "execution_count": null,
   "metadata": {},
   "outputs": [],
   "source": []
  }
 ],
 "metadata": {
  "kernelspec": {
   "display_name": "Python 3",
   "language": "python",
   "name": "python3"
  },
  "language_info": {
   "codemirror_mode": {
    "name": "ipython",
    "version": 3
   },
   "file_extension": ".py",
   "mimetype": "text/x-python",
   "name": "python",
   "nbconvert_exporter": "python",
   "pygments_lexer": "ipython3",
   "version": "3.9.6"
  }
 },
 "nbformat": 4,
 "nbformat_minor": 2
}
